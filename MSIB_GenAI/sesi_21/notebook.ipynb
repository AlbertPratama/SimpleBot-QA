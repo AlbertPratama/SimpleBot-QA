{
 "cells": [
  {
   "cell_type": "code",
   "execution_count": 38,
   "metadata": {},
   "outputs": [],
   "source": [
    "import os\n",
    "import requests\n",
    "from dotenv import load_dotenv\n",
    "from langchain.document_loaders import WebBaseLoader\n",
    "from langchain.chains.summarize import load_summarize_chain"
   ]
  },
  {
   "cell_type": "code",
   "execution_count": 39,
   "metadata": {},
   "outputs": [],
   "source": [
    "load_dotenv()\n",
    "api = os.getenv('HUGGING_FACE_API_KEY')"
   ]
  },
  {
   "cell_type": "markdown",
   "metadata": {},
   "source": []
  },
  {
   "cell_type": "code",
   "execution_count": 40,
   "metadata": {},
   "outputs": [
    {
     "name": "stdout",
     "output_type": "stream",
     "text": [
      "Loading Web Document....\n",
      "Done!\n"
     ]
    }
   ],
   "source": [
    "print(\"Loading Web Document....\")\n",
    "\n",
    "loader = WebBaseLoader(\n",
    "    \"https://www.ibm.com/blog/what-can-ai-and-generative-ai-do-for-governments/\")\n",
    "doc = loader.load()\n",
    "print('Done!')"
   ]
  },
  {
   "cell_type": "code",
   "execution_count": 41,
   "metadata": {},
   "outputs": [],
   "source": [
    "# from huggingface_hub import InferenceClient\n",
    "\n",
    "# client = InferenceClient(api_key=api)\n",
    "\n",
    "# def generate(prompt):\n",
    "#   messages = [\n",
    "#     {\n",
    "#       \"role\": \"user\",\n",
    "#       \"content\": prompt\n",
    "#     }\n",
    "#   ]\n",
    "\n",
    "#   stream = client.chat.completions.create(\n",
    "#       model=\"infly/OpenCoder-8B-Instruct\",\n",
    "#       messages=messages,\n",
    "#       max_tokens=500,\n",
    "#       stream=True\n",
    "#   )\n",
    "\n",
    "#   response = \"\"\n",
    "#   for chunk in stream:\n",
    "#     response += chunk.choices[0].delta.content\n",
    "#   return response "
   ]
  },
  {
   "cell_type": "code",
   "execution_count": 42,
   "metadata": {},
   "outputs": [],
   "source": [
    "API_URL = \"https://api-inference.huggingface.co/models/meta-llama/Llama-2-13b-hf\"\n",
    "headers = {\"Authorization\": f\"Bearer {api}\"}\n",
    "\n",
    "\n",
    "def query(payload):\n",
    "\tresponse = requests.post(API_URL, headers=headers, json=payload)\n",
    "\treturn response.json()"
   ]
  },
  {
   "cell_type": "code",
   "execution_count": 43,
   "metadata": {},
   "outputs": [],
   "source": [
    "# zero = \"\"\"\n",
    "#           Q: ho was President of the United States in 1955? Which party did he belong to?\\n\n",
    "#           A: \n",
    "#           \"\"\"\n",
    "\n",
    "\n",
    "# output = generate(zero)"
   ]
  },
  {
   "cell_type": "code",
   "execution_count": 44,
   "metadata": {},
   "outputs": [],
   "source": [
    "# output"
   ]
  },
  {
   "cell_type": "code",
   "execution_count": 45,
   "metadata": {},
   "outputs": [],
   "source": [
    "# API_URL = \"\"\n",
    "# headers = {\"Authorization\": f\"Bearer {api}\"}\n",
    "\n",
    "# def generate_text(prompt):\n",
    "#   repsonse = requests.post(API_URL, headers=headers, json={\"input\": prompt})\n",
    "#   repsonse_data = repsonse.json()\n",
    "#   return repsonse_data[0].get(\"generated_text\", \"Error in response\") if isinstance(repsonse_data, list) else str(repsonse_data)"
   ]
  },
  {
   "cell_type": "code",
   "execution_count": 47,
   "metadata": {},
   "outputs": [
    {
     "data": {
      "text/plain": [
       "{'error': 'The model google/gemma-2-2b is too large to be loaded automatically (10GB > 10GB). Please use Spaces (https://huggingface.co/spaces) or Inference Endpoints (https://huggingface.co/inference-endpoints).'}"
      ]
     },
     "execution_count": 47,
     "metadata": {},
     "output_type": "execute_result"
    }
   ],
   "source": [
    "import requests\n",
    "\n",
    "API_URL = \"https://api-inference.huggingface.co/models/google/gemma-2-2b\"\n",
    "headers = {\"Authorization\": f\"Bearer {api}\"}\n",
    "\n",
    "\n",
    "def query(payload):\n",
    "\tresponse = requests.post(API_URL, headers=headers, json=payload)\n",
    "\treturn response.json()\n",
    "\n",
    "\n",
    "output = query({\n",
    "\t\"inputs\": \"Can you please let us know more details about your \",\n",
    "})\n",
    "output"
   ]
  }
 ],
 "metadata": {
  "kernelspec": {
   "display_name": "Python 3",
   "language": "python",
   "name": "python3"
  },
  "language_info": {
   "codemirror_mode": {
    "name": "ipython",
    "version": 3
   },
   "file_extension": ".py",
   "mimetype": "text/x-python",
   "name": "python",
   "nbconvert_exporter": "python",
   "pygments_lexer": "ipython3",
   "version": "3.11.2"
  }
 },
 "nbformat": 4,
 "nbformat_minor": 2
}
